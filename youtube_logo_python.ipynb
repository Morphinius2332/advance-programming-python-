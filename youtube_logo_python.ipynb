{
  "nbformat": 4,
  "nbformat_minor": 0,
  "metadata": {
    "colab": {
      "provenance": [],
      "authorship_tag": "ABX9TyNDDETEE9eEvwha3EidyR+i",
      "include_colab_link": true
    },
    "kernelspec": {
      "name": "python3",
      "display_name": "Python 3"
    },
    "language_info": {
      "name": "python"
    }
  },
  "cells": [
    {
      "cell_type": "markdown",
      "metadata": {
        "id": "view-in-github",
        "colab_type": "text"
      },
      "source": [
        "<a href=\"https://colab.research.google.com/github/Morphinius2332/advance-programming-python-/blob/main/youtube_logo_python.ipynb\" target=\"_parent\"><img src=\"https://colab.research.google.com/assets/colab-badge.svg\" alt=\"Open In Colab\"/></a>"
      ]
    },
    {
      "cell_type": "code",
      "execution_count": null,
      "metadata": {
        "id": "Fv8w9k6bGj6s"
      },
      "outputs": [],
      "source": [
        "from turtle import *\n",
        "hideturtle()\n",
        "fillcolor('red')\n",
        "\n",
        "begin_fill()\n",
        "for i in [300, 200] * 2:\n",
        "    forward(i)\n",
        "    circle(30, 90)\n",
        "end_fill()\n",
        "penup()\n",
        "goto(120, 80)\n",
        "pendown()\n",
        "fillcolor('white')\n",
        "begin_fill()\n",
        "for i in [30, 120, 120]:\n",
        "    left(i)\n",
        "    forward(100)\n",
        "end_fill()\n"
      ]
    }
  ]
}