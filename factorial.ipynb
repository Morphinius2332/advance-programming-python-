{
  "nbformat": 4,
  "nbformat_minor": 0,
  "metadata": {
    "colab": {
      "provenance": [],
      "authorship_tag": "ABX9TyM3DUDQNuDBtJP19DB4woNc",
      "include_colab_link": true
    },
    "kernelspec": {
      "name": "python3",
      "display_name": "Python 3"
    },
    "language_info": {
      "name": "python"
    }
  },
  "cells": [
    {
      "cell_type": "markdown",
      "metadata": {
        "id": "view-in-github",
        "colab_type": "text"
      },
      "source": [
        "<a href=\"https://colab.research.google.com/github/Morphinius2332/advance-programming-python-/blob/main/factorial.ipynb\" target=\"_parent\"><img src=\"https://colab.research.google.com/assets/colab-badge.svg\" alt=\"Open In Colab\"/></a>"
      ]
    },
    {
      "cell_type": "code",
      "execution_count": 4,
      "metadata": {
        "colab": {
          "base_uri": "https://localhost:8080/"
        },
        "id": "dNmh2izn7KGm",
        "outputId": "1a75134d-2c95-4bc2-abdf-c87de669e327"
      },
      "outputs": [
        {
          "output_type": "stream",
          "name": "stdout",
          "text": [
            "enter a number:23\n",
            "the factorial of 23 is 1\n",
            "the factorial of 23 is 2\n",
            "the factorial of 23 is 6\n",
            "the factorial of 23 is 24\n",
            "the factorial of 23 is 120\n",
            "the factorial of 23 is 720\n",
            "the factorial of 23 is 5040\n",
            "the factorial of 23 is 40320\n",
            "the factorial of 23 is 362880\n",
            "the factorial of 23 is 3628800\n",
            "the factorial of 23 is 39916800\n",
            "the factorial of 23 is 479001600\n",
            "the factorial of 23 is 6227020800\n",
            "the factorial of 23 is 87178291200\n",
            "the factorial of 23 is 1307674368000\n",
            "the factorial of 23 is 20922789888000\n",
            "the factorial of 23 is 355687428096000\n",
            "the factorial of 23 is 6402373705728000\n",
            "the factorial of 23 is 121645100408832000\n",
            "the factorial of 23 is 2432902008176640000\n",
            "the factorial of 23 is 51090942171709440000\n",
            "the factorial of 23 is 1124000727777607680000\n",
            "the factorial of 23 is 25852016738884976640000\n"
          ]
        }
      ],
      "source": [
        "num=int(input(\"enter a number:\"))\n",
        "factorial=1\n",
        "if num<0 :\n",
        "  print(\"factorial does not exist for negetive numbers\")\n",
        "elif num==0:\n",
        "  print(\"the factorial of 0 is 1\")\n",
        "else:\n",
        "    for i in range(1,num+1):\n",
        "      factorial=factorial*i\n",
        "      print(\"the factorial of\",num,\"is\",factorial)"
      ]
    }
  ]
}